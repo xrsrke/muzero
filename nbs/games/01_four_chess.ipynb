{
 "cells": [
  {
   "attachments": {},
   "cell_type": "markdown",
   "metadata": {},
   "source": [
    "# View board\n",
    "\n",
    "> Fill in a module description here\n"
   ]
  },
  {
   "cell_type": "code",
   "execution_count": null,
   "metadata": {},
   "outputs": [],
   "source": [
    "# | default_exp chess.game"
   ]
  },
  {
   "cell_type": "code",
   "execution_count": null,
   "metadata": {},
   "outputs": [],
   "source": [
    "#| hide\n",
    "import nbdev; nbdev.nbdev_export()"
   ]
  },
  {
   "cell_type": "code",
   "execution_count": null,
   "metadata": {},
   "outputs": [
    {
     "name": "stdout",
     "output_type": "stream",
     "text": [
      "pygame 2.1.3.dev8 (SDL 2.0.22, Python 3.10.6)\n",
      "Hello from the pygame community. https://www.pygame.org/contribute.html\n"
     ]
    }
   ],
   "source": [
    "#| export\n",
    "import numpy as np\n",
    "from muzero.chess.view_board import draw_board, render"
   ]
  },
  {
   "cell_type": "code",
   "execution_count": null,
   "metadata": {},
   "outputs": [],
   "source": [
    "#| export\n",
    "\n",
    "# coped from https://github.com/ThePrincipalComponent/AlphaZeroConnect4/blob/main/Part%204/game.py\n",
    "\n",
    "# 1. get_init_board\n",
    "# 2. place_piece\n",
    "# 3. get_valid_moves\n",
    "# 4. is_board_full\n",
    "# 5. is_win\n",
    "\n",
    "\n",
    "def get_init_board():\n",
    "    return np.zeros((6, 7))\n",
    "\n",
    "\n",
    "def place_piece(board, player, action):\n",
    "    board_copy = np.copy(board)\n",
    "    row_index = sum(board_copy[:, action] == 0)-1\n",
    "    board_copy[row_index, action] = player\n",
    "    return board_copy\n",
    "\n",
    "\n",
    "def get_valid_moves(board):\n",
    "    # return [0,1,1,1,0,1,1]\n",
    "    # where 0 is invalid, 1 is valid\n",
    "    valid_moves = [0] * 7\n",
    "    for column in range(7):\n",
    "        if sum(board[:, column] == 0) > 0:\n",
    "            valid_moves[column] = 1\n",
    "\n",
    "    return valid_moves\n",
    "\n",
    "\n",
    "def is_board_full(board):\n",
    "    return sum(board.flatten() == 0) == 0\n",
    "\n",
    "\n",
    "def is_win(board, player):\n",
    "    # return True if player has won, else return False\n",
    "\n",
    "    # vertical win\n",
    "    for column in range(7):\n",
    "        for row in range(3):\n",
    "            if board[row, column] == board[row+1, column] == board[row+2, column] == board[row+3, column] == player:\n",
    "                return True\n",
    "\n",
    "    # horizontal win\n",
    "    for row in range(6):\n",
    "        for column in range(4):\n",
    "            if board[row, column] == board[row, column+1] == board[row, column+2] == board[row, column+3] == player:\n",
    "                return True\n",
    "\n",
    "    # diagonal top left to bottom right\n",
    "    for row in range(3):\n",
    "        for column in range(4):\n",
    "            if board[row, column] == board[row+1, column+1] == board[row+2, column+2] == board[row+3, column+3] == player:\n",
    "                return True\n",
    "\n",
    "    # diagonal bottom left to top right\n",
    "    for row in range(5, 2, -1):\n",
    "        for column in range(4):\n",
    "            if board[row, column] == board[row-1, column+1] == board[row-2, column+2] == board[row-3, column+3] == player:\n",
    "                return True\n",
    "\n",
    "    return False\n"
   ]
  },
  {
   "cell_type": "code",
   "execution_count": null,
   "metadata": {},
   "outputs": [],
   "source": []
  }
 ],
 "metadata": {
  "kernelspec": {
   "display_name": "env",
   "language": "python",
   "name": "python3"
  }
 },
 "nbformat": 4,
 "nbformat_minor": 2
}
