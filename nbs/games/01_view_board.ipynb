{
 "cells": [
  {
   "attachments": {},
   "cell_type": "markdown",
   "metadata": {},
   "source": [
    "# View board\n",
    "\n",
    "> Fill in a module description here\n"
   ]
  },
  {
   "cell_type": "code",
   "execution_count": null,
   "metadata": {},
   "outputs": [],
   "source": [
    "#| default_exp chess.view_board"
   ]
  },
  {
   "cell_type": "code",
   "execution_count": null,
   "metadata": {},
   "outputs": [],
   "source": [
    "#| hide\n",
    "import nbdev; nbdev.nbdev_export()"
   ]
  },
  {
   "cell_type": "code",
   "execution_count": null,
   "metadata": {},
   "outputs": [
    {
     "name": "stdout",
     "output_type": "stream",
     "text": [
      "pygame 2.1.3.dev8 (SDL 2.0.22, Python 3.10.6)\n",
      "Hello from the pygame community. https://www.pygame.org/contribute.html\n"
     ]
    }
   ],
   "source": [
    "#| export\n",
    "import pygame\n",
    "import numpy as np\n",
    "import sys"
   ]
  },
  {
   "cell_type": "code",
   "execution_count": null,
   "metadata": {},
   "outputs": [],
   "source": [
    "#| export\n",
    "\n",
    "# Copied from https://github.com/ThePrincipalComponent/AlphaZeroConnect4/blob/main/Part%204/view_board.py\n",
    "\n",
    "def draw_board(screen, board):\n",
    "    COLUMN_COUNT = 7\n",
    "    ROW_COUNT = 6\n",
    "    SQUARESIZE = 100\n",
    "    RADIUS = int(SQUARESIZE/2 - 5)\n",
    "\n",
    "    BLUE = (52, 186, 235)\n",
    "    GREY = (70, 71, 70)\n",
    "    WHITE = (255, 255, 255)\n",
    "    YELLOW = (230, 230, 20)\n",
    "\n",
    "    width = COLUMN_COUNT * SQUARESIZE\n",
    "    height = (ROW_COUNT+1) * SQUARESIZE\n",
    "\n",
    "    size = (width, height)\n",
    "    board = np.flip(board, 0)\n",
    "    for c in range(COLUMN_COUNT):\n",
    "        for r in range(ROW_COUNT):\n",
    "            pygame.draw.rect(screen, GREY, (c*SQUARESIZE, r *\n",
    "                             SQUARESIZE+SQUARESIZE, SQUARESIZE, SQUARESIZE))\n",
    "            pygame.draw.circle(screen, WHITE, (int(\n",
    "                c*SQUARESIZE+SQUARESIZE/2), int(r*SQUARESIZE+SQUARESIZE+SQUARESIZE/2)), RADIUS)\n",
    "\n",
    "    for c in range(COLUMN_COUNT):\n",
    "        for r in range(ROW_COUNT):\n",
    "            if board[r][c] == 1:\n",
    "                pygame.draw.circle(screen, BLUE, (int(\n",
    "                    c*SQUARESIZE+SQUARESIZE/2), height-int(r*SQUARESIZE+SQUARESIZE/2)), RADIUS)\n",
    "            elif board[r][c] == -1:\n",
    "                pygame.draw.circle(screen, YELLOW, (int(\n",
    "                    c*SQUARESIZE+SQUARESIZE/2), height-int(r*SQUARESIZE+SQUARESIZE/2)), RADIUS)\n",
    "    pygame.display.update()\n",
    "\n",
    "\n",
    "def render(board):\n",
    "    pygame.init()\n",
    "    screen = pygame.display.set_mode((700, 700))\n",
    "\n",
    "    while True:\n",
    "        for event in pygame.event.get():\n",
    "            if event.type == pygame.QUIT:\n",
    "                sys.exit()\n",
    "            draw_board(screen, board)\n",
    "            pygame.display.update()"
   ]
  }
 ],
 "metadata": {
  "kernelspec": {
   "display_name": "env",
   "language": "python",
   "name": "python3"
  }
 },
 "nbformat": 4,
 "nbformat_minor": 2
}
