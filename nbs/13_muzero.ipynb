{
 "cells": [
  {
   "attachments": {},
   "cell_type": "markdown",
   "metadata": {},
   "source": [
    "# MuZero\n",
    "\n",
    "> Fill in a module description here"
   ]
  },
  {
   "cell_type": "code",
   "execution_count": null,
   "metadata": {},
   "outputs": [],
   "source": [
    "#| default_exp muzero"
   ]
  },
  {
   "cell_type": "code",
   "execution_count": null,
   "metadata": {},
   "outputs": [],
   "source": [
    "#| hide\n",
    "from nbdev.showdoc import *\n",
    "import nbdev; nbdev.nbdev_export()"
   ]
  },
  {
   "attachments": {},
   "cell_type": "markdown",
   "metadata": {},
   "source": [
    "Muzero consists of three components:\n",
    "- Prediction Model - $f(s^i) = p^i, v^i$: predicts the policy function and the value function\n",
    "- Dynamics Model - $g(s^i, a^i) = s^{i+1}, r^{i+1}$: predicts the next state $s^{\\prime}$ and reward"
   ]
  },
  {
   "attachments": {},
   "cell_type": "markdown",
   "metadata": {},
   "source": [
    "### Input"
   ]
  },
  {
   "attachments": {},
   "cell_type": "markdown",
   "metadata": {},
   "source": [
    "$h$: is a resenet"
   ]
  },
  {
   "attachments": {},
   "cell_type": "markdown",
   "metadata": {},
   "source": [
    "### 2. Prediction Model\n",
    "\n",
    "$f(s^i) = (p^i, v^i)$\n",
    "\n",
    "predicts the policy function $p^i$ and the value function $v^i$"
   ]
  },
  {
   "attachments": {},
   "cell_type": "markdown",
   "metadata": {},
   "source": [
    "### 3. Dynamics Model\n",
    "\n",
    "$g(s^i, a^i) = (s^{i+1}, r^{i+1})$\n",
    "\n",
    "predicts the next state $s^{\\prime}$ and reward"
   ]
  },
  {
   "attachments": {},
   "cell_type": "markdown",
   "metadata": {},
   "source": [
    "### Training\n",
    "\n",
    "Train 5 hypothetical steps\n",
    "\n",
    "For the policy: Minimize the KL divergence between the predicted policy $p^i$ and the actual policy $\\pi^i$\n",
    "\n",
    "For the value function: Minimize MSE between the predicted reward $v^i$ $z$ and the actual reward $z^i$\n",
    "+ Win: +1\n",
    "+ Non-win: 0\n",
    "+ Lose: -1\n",
    "\n",
    "For atari use MSE reward"
   ]
  },
  {
   "cell_type": "markdown",
   "metadata": {},
   "source": []
  },
  {
   "cell_type": "code",
   "execution_count": null,
   "metadata": {},
   "outputs": [],
   "source": [
    "#| export\n",
    "from dataclasses import dataclass"
   ]
  },
  {
   "cell_type": "code",
   "execution_count": null,
   "metadata": {},
   "outputs": [],
   "source": [
    "#| export\n",
    "@dataclass\n",
    "class MuzeroConfig:\n",
    "    action_space: int"
   ]
  },
  {
   "cell_type": "code",
   "execution_count": null,
   "metadata": {},
   "outputs": [],
   "source": []
  }
 ],
 "metadata": {
  "kernelspec": {
   "display_name": "env",
   "language": "python",
   "name": "python3"
  }
 },
 "nbformat": 4,
 "nbformat_minor": 2
}
